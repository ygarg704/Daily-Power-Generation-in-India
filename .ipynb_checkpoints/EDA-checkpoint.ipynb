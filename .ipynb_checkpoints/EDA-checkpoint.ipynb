{
 "cells": [
  {
   "cell_type": "code",
   "execution_count": 1,
   "metadata": {},
   "outputs": [],
   "source": [
    "import numpy as np\n",
    "import matplotlib.pyplot as plt\n",
    "import pandas as pd\n",
    "import folium\n",
    "import seaborn as sns"
   ]
  },
  {
   "cell_type": "code",
   "execution_count": 2,
   "metadata": {},
   "outputs": [
    {
     "data": {
      "text/html": [
       "<div>\n",
       "<style scoped>\n",
       "    .dataframe tbody tr th:only-of-type {\n",
       "        vertical-align: middle;\n",
       "    }\n",
       "\n",
       "    .dataframe tbody tr th {\n",
       "        vertical-align: top;\n",
       "    }\n",
       "\n",
       "    .dataframe thead th {\n",
       "        text-align: right;\n",
       "    }\n",
       "</style>\n",
       "<table border=\"1\" class=\"dataframe\">\n",
       "  <thead>\n",
       "    <tr style=\"text-align: right;\">\n",
       "      <th></th>\n",
       "      <th>Region</th>\n",
       "      <th>Latitude</th>\n",
       "      <th>Longitude</th>\n",
       "    </tr>\n",
       "  </thead>\n",
       "  <tbody>\n",
       "    <tr>\n",
       "      <th>0</th>\n",
       "      <td>NorthEastern</td>\n",
       "      <td>25.573600</td>\n",
       "      <td>93.247300</td>\n",
       "    </tr>\n",
       "    <tr>\n",
       "      <th>1</th>\n",
       "      <td>Eastern</td>\n",
       "      <td>22.896200</td>\n",
       "      <td>85.980000</td>\n",
       "    </tr>\n",
       "    <tr>\n",
       "      <th>2</th>\n",
       "      <td>Western</td>\n",
       "      <td>23.907400</td>\n",
       "      <td>72.709700</td>\n",
       "    </tr>\n",
       "    <tr>\n",
       "      <th>3</th>\n",
       "      <td>Northern</td>\n",
       "      <td>28.613900</td>\n",
       "      <td>77.209000</td>\n",
       "    </tr>\n",
       "    <tr>\n",
       "      <th>4</th>\n",
       "      <td>Southern</td>\n",
       "      <td>12.260200</td>\n",
       "      <td>77.146100</td>\n",
       "    </tr>\n",
       "    <tr>\n",
       "      <th>5</th>\n",
       "      <td>Central</td>\n",
       "      <td>22.942128</td>\n",
       "      <td>78.198687</td>\n",
       "    </tr>\n",
       "    <tr>\n",
       "      <th>6</th>\n",
       "      <td>Western</td>\n",
       "      <td>23.764014</td>\n",
       "      <td>71.126339</td>\n",
       "    </tr>\n",
       "  </tbody>\n",
       "</table>\n",
       "</div>"
      ],
      "text/plain": [
       "         Region   Latitude  Longitude\n",
       "0  NorthEastern  25.573600  93.247300\n",
       "1       Eastern  22.896200  85.980000\n",
       "2      Western   23.907400  72.709700\n",
       "3      Northern  28.613900  77.209000\n",
       "4      Southern  12.260200  77.146100\n",
       "5       Central  22.942128  78.198687\n",
       "6       Western  23.764014  71.126339"
      ]
     },
     "execution_count": 2,
     "metadata": {},
     "output_type": "execute_result"
    }
   ],
   "source": [
    "region = pd.read_csv('Datasets/region_cordinates.csv')\n",
    "region"
   ]
  },
  {
   "cell_type": "code",
   "execution_count": 3,
   "metadata": {},
   "outputs": [
    {
     "data": {
      "text/plain": [
       "0.003"
      ]
     },
     "execution_count": 3,
     "metadata": {},
     "output_type": "execute_result"
    }
   ],
   "source": [
    "State = pd.read_csv('Datasets/State_Region_corrected_clean.csv')\n",
    "State['National Share (%)'].min()"
   ]
  },
  {
   "cell_type": "code",
   "execution_count": 4,
   "metadata": {},
   "outputs": [
    {
     "data": {
      "text/html": [
       "<div>\n",
       "<style scoped>\n",
       "    .dataframe tbody tr th:only-of-type {\n",
       "        vertical-align: middle;\n",
       "    }\n",
       "\n",
       "    .dataframe tbody tr th {\n",
       "        vertical-align: top;\n",
       "    }\n",
       "\n",
       "    .dataframe thead th {\n",
       "        text-align: right;\n",
       "    }\n",
       "</style>\n",
       "<table border=\"1\" class=\"dataframe\">\n",
       "  <thead>\n",
       "    <tr style=\"text-align: right;\">\n",
       "      <th></th>\n",
       "      <th>Region</th>\n",
       "      <th>National Share (%)</th>\n",
       "    </tr>\n",
       "  </thead>\n",
       "  <tbody>\n",
       "    <tr>\n",
       "      <th>0</th>\n",
       "      <td>Central</td>\n",
       "      <td>13.480</td>\n",
       "    </tr>\n",
       "    <tr>\n",
       "      <th>1</th>\n",
       "      <td>Eastern</td>\n",
       "      <td>12.710</td>\n",
       "    </tr>\n",
       "    <tr>\n",
       "      <th>2</th>\n",
       "      <td>NorthEastern</td>\n",
       "      <td>7.940</td>\n",
       "    </tr>\n",
       "    <tr>\n",
       "      <th>3</th>\n",
       "      <td>Northern</td>\n",
       "      <td>27.193</td>\n",
       "    </tr>\n",
       "    <tr>\n",
       "      <th>4</th>\n",
       "      <td>Southern</td>\n",
       "      <td>19.330</td>\n",
       "    </tr>\n",
       "    <tr>\n",
       "      <th>5</th>\n",
       "      <td>Western</td>\n",
       "      <td>15.440</td>\n",
       "    </tr>\n",
       "  </tbody>\n",
       "</table>\n",
       "</div>"
      ],
      "text/plain": [
       "         Region  National Share (%)\n",
       "0       Central              13.480\n",
       "1       Eastern              12.710\n",
       "2  NorthEastern               7.940\n",
       "3      Northern              27.193\n",
       "4      Southern              19.330\n",
       "5       Western              15.440"
      ]
     },
     "execution_count": 4,
     "metadata": {},
     "output_type": "execute_result"
    }
   ],
   "source": [
    "State1 = State.groupby('Region')['National Share (%)'].sum()\n",
    "State1 = pd.DataFrame(data=State1.values, index=State1.index, columns=['National Share (%)'])\n",
    "State1 = State1.reset_index()\n",
    "State1['Region'] = State1['Region'].replace(['Northeastern'],'NorthEastern')\n",
    "State1"
   ]
  },
  {
   "cell_type": "code",
   "execution_count": 5,
   "metadata": {},
   "outputs": [
    {
     "data": {
      "image/png": "[encoded data removed]",
      "text/plain": [
       "<Figure size 432x288 with 1 Axes>"
      ]
     },
     "metadata": {
      "needs_background": "light"
     },
     "output_type": "display_data"
    }
   ],
   "source": [
    "sns.barplot(x=\"National Share (%)\", y=State1.iloc[ : , 0].values, data=State1)\n",
    "plt.savefig(\"Outputs/EDA_Region.png\", dpi = 1000, bbox_inches='tight')"
   ]
  },
  {
   "cell_type": "code",
   "execution_count": 6,
   "metadata": {},
   "outputs": [],
   "source": [
    "result = pd.merge(right=region, left=State1, how='left')"
   ]
  },
  {
   "cell_type": "code",
   "execution_count": 7,
   "metadata": {},
   "outputs": [
    {
     "data": {
      "text/html": [
       "<div>\n",
       "<style scoped>\n",
       "    .dataframe tbody tr th:only-of-type {\n",
       "        vertical-align: middle;\n",
       "    }\n",
       "\n",
       "    .dataframe tbody tr th {\n",
       "        vertical-align: top;\n",
       "    }\n",
       "\n",
       "    .dataframe thead th {\n",
       "        text-align: right;\n",
       "    }\n",
       "</style>\n",
       "<table border=\"1\" class=\"dataframe\">\n",
       "  <thead>\n",
       "    <tr style=\"text-align: right;\">\n",
       "      <th></th>\n",
       "      <th>Region</th>\n",
       "      <th>National Share (%)</th>\n",
       "      <th>Latitude</th>\n",
       "      <th>Longitude</th>\n",
       "    </tr>\n",
       "  </thead>\n",
       "  <tbody>\n",
       "    <tr>\n",
       "      <th>0</th>\n",
       "      <td>Central</td>\n",
       "      <td>13.480</td>\n",
       "      <td>22.942128</td>\n",
       "      <td>78.198687</td>\n",
       "    </tr>\n",
       "    <tr>\n",
       "      <th>1</th>\n",
       "      <td>Eastern</td>\n",
       "      <td>12.710</td>\n",
       "      <td>22.896200</td>\n",
       "      <td>85.980000</td>\n",
       "    </tr>\n",
       "    <tr>\n",
       "      <th>2</th>\n",
       "      <td>NorthEastern</td>\n",
       "      <td>7.940</td>\n",
       "      <td>25.573600</td>\n",
       "      <td>93.247300</td>\n",
       "    </tr>\n",
       "    <tr>\n",
       "      <th>3</th>\n",
       "      <td>Northern</td>\n",
       "      <td>27.193</td>\n",
       "      <td>28.613900</td>\n",
       "      <td>77.209000</td>\n",
       "    </tr>\n",
       "    <tr>\n",
       "      <th>4</th>\n",
       "      <td>Southern</td>\n",
       "      <td>19.330</td>\n",
       "      <td>12.260200</td>\n",
       "      <td>77.146100</td>\n",
       "    </tr>\n",
       "    <tr>\n",
       "      <th>5</th>\n",
       "      <td>Western</td>\n",
       "      <td>15.440</td>\n",
       "      <td>23.764014</td>\n",
       "      <td>71.126339</td>\n",
       "    </tr>\n",
       "  </tbody>\n",
       "</table>\n",
       "</div>"
      ],
      "text/plain": [
       "         Region  National Share (%)   Latitude  Longitude\n",
       "0       Central              13.480  22.942128  78.198687\n",
       "1       Eastern              12.710  22.896200  85.980000\n",
       "2  NorthEastern               7.940  25.573600  93.247300\n",
       "3      Northern              27.193  28.613900  77.209000\n",
       "4      Southern              19.330  12.260200  77.146100\n",
       "5       Western              15.440  23.764014  71.126339"
      ]
     },
     "execution_count": 7,
     "metadata": {},
     "output_type": "execute_result"
    }
   ],
   "source": [
    "result"
   ]
  },
  {
   "cell_type": "code",
   "execution_count": 8,
   "metadata": {},
   "outputs": [
    {
     "data": {
      "text/plain": [
       "6"
      ]
     },
     "execution_count": 8,
     "metadata": {},
     "output_type": "execute_result"
    }
   ],
   "source": [
    "# Create `locations` by subsetting only Latitude and Longitude from the dataset \n",
    "locations = result[['Latitude', 'Longitude']]\n",
    "\n",
    "# Create `deaths_list` by transforming the DataFrame to list of lists \n",
    "reg_list = locations.values.tolist()\n",
    "\n",
    "# Check the length of the list\n",
    "len(reg_list)"
   ]
  },
  {
   "cell_type": "code",
   "execution_count": 9,
   "metadata": {
    "scrolled": false
   },
   "outputs": [
    {
     "data": {
      "text/html": [
       "<div style=\"width:100%;\"><div style=\"position:relative;width:100%;height:0;padding-bottom:60%;\"><span style=\"color:#565656\">Make this Notebook Trusted to load map: File -> Trust Notebook</span><iframe src=\"about:blank\" style=\"position:absolute;width:100%;height:100%;left:0;top:0;border:none !important;\" data-html=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 onload=\"this.contentDocument.open();this.contentDocument.write(atob(this.getAttribute('data-html')));this.contentDocument.close();\" allowfullscreen webkitallowfullscreen mozallowfullscreen></iframe></div></div>"
      ],
      "text/plain": [
       "<folium.folium.Map at 0x1fc6ba2d388>"
      ]
     },
     "execution_count": 9,
     "metadata": {},
     "output_type": "execute_result"
    }
   ],
   "source": [
    "map = folium.Map(location=[20.5937,78.9629], tiles='Stamen Toner', zoom_start=4.4)\n",
    "\n",
    "for i in range(0,len(result)):\n",
    "    folium.Circle(\n",
    "      location=[result.iloc[i]['Latitude'], result.iloc[i]['Longitude']],\n",
    "      popup=result.iloc[i]['Region'],\n",
    "      radius=float(result.iloc[i]['National Share (%)'])*20000,\n",
    "      color='blue',\n",
    "      fill=True,\n",
    "      fill_color='crimson'\n",
    "   ).add_to(map)\n",
    "    \n",
    "map"
   ]
  },
  {
   "cell_type": "code",
   "execution_count": 10,
   "metadata": {},
   "outputs": [],
   "source": [
    "map.save('map.html')"
   ]
  },
  {
   "cell_type": "code",
   "execution_count": 11,
   "metadata": {},
   "outputs": [
    {
     "data": {
      "image/png": "[encoded data removed]",
      "text/plain": [
       "<Figure size 432x648 with 1 Axes>"
      ]
     },
     "metadata": {
      "needs_background": "light"
     },
     "output_type": "display_data"
    }
   ],
   "source": [
    "f, ax = plt.subplots(figsize=(6, 9))\n",
    "g = sns.barplot(x=\"National Share (%)\", y=State.iloc[ : , 0].values, data=State)\n",
    "plt.savefig(\"Outputs/EDA_State.png\", dpi = 1000, bbox_inches='tight', transparent=True)"
   ]
  },
  {
   "cell_type": "code",
   "execution_count": 12,
   "metadata": {},
   "outputs": [
    {
     "data": {
      "text/html": [
       "<div>\n",
       "<style scoped>\n",
       "    .dataframe tbody tr th:only-of-type {\n",
       "        vertical-align: middle;\n",
       "    }\n",
       "\n",
       "    .dataframe tbody tr th {\n",
       "        vertical-align: top;\n",
       "    }\n",
       "\n",
       "    .dataframe thead th {\n",
       "        text-align: right;\n",
       "    }\n",
       "</style>\n",
       "<table border=\"1\" class=\"dataframe\">\n",
       "  <thead>\n",
       "    <tr style=\"text-align: right;\">\n",
       "      <th></th>\n",
       "      <th>Region</th>\n",
       "      <th>Year</th>\n",
       "      <th>Month</th>\n",
       "      <th>Day</th>\n",
       "      <th>Thermal Generation Actual (in MU)</th>\n",
       "      <th>Hydro Generation Actual (in MU)</th>\n",
       "    </tr>\n",
       "  </thead>\n",
       "  <tbody>\n",
       "    <tr>\n",
       "      <th>0</th>\n",
       "      <td>Northern</td>\n",
       "      <td>2017</td>\n",
       "      <td>9</td>\n",
       "      <td>1</td>\n",
       "      <td>624.23</td>\n",
       "      <td>273.27</td>\n",
       "    </tr>\n",
       "    <tr>\n",
       "      <th>1</th>\n",
       "      <td>Western</td>\n",
       "      <td>2017</td>\n",
       "      <td>9</td>\n",
       "      <td>1</td>\n",
       "      <td>1106.89</td>\n",
       "      <td>72.00</td>\n",
       "    </tr>\n",
       "    <tr>\n",
       "      <th>2</th>\n",
       "      <td>Southern</td>\n",
       "      <td>2017</td>\n",
       "      <td>9</td>\n",
       "      <td>1</td>\n",
       "      <td>576.66</td>\n",
       "      <td>111.57</td>\n",
       "    </tr>\n",
       "    <tr>\n",
       "      <th>3</th>\n",
       "      <td>Eastern</td>\n",
       "      <td>2017</td>\n",
       "      <td>9</td>\n",
       "      <td>1</td>\n",
       "      <td>441.02</td>\n",
       "      <td>85.94</td>\n",
       "    </tr>\n",
       "    <tr>\n",
       "      <th>4</th>\n",
       "      <td>NorthEastern</td>\n",
       "      <td>2017</td>\n",
       "      <td>9</td>\n",
       "      <td>1</td>\n",
       "      <td>29.11</td>\n",
       "      <td>24.64</td>\n",
       "    </tr>\n",
       "  </tbody>\n",
       "</table>\n",
       "</div>"
      ],
      "text/plain": [
       "         Region  Year  Month  Day  Thermal Generation Actual (in MU)  \\\n",
       "0      Northern  2017      9    1                             624.23   \n",
       "1       Western  2017      9    1                            1106.89   \n",
       "2      Southern  2017      9    1                             576.66   \n",
       "3       Eastern  2017      9    1                             441.02   \n",
       "4  NorthEastern  2017      9    1                              29.11   \n",
       "\n",
       "   Hydro Generation Actual (in MU)  \n",
       "0                           273.27  \n",
       "1                            72.00  \n",
       "2                           111.57  \n",
       "3                            85.94  \n",
       "4                            24.64  "
      ]
     },
     "execution_count": 12,
     "metadata": {},
     "output_type": "execute_result"
    }
   ],
   "source": [
    "ds = pd.read_csv('Datasets/predict_clean.csv')\n",
    "ds.head()"
   ]
  },
  {
   "cell_type": "code",
   "execution_count": 13,
   "metadata": {},
   "outputs": [
    {
     "data": {
      "text/html": [
       "<div>\n",
       "<style scoped>\n",
       "    .dataframe tbody tr th:only-of-type {\n",
       "        vertical-align: middle;\n",
       "    }\n",
       "\n",
       "    .dataframe tbody tr th {\n",
       "        vertical-align: top;\n",
       "    }\n",
       "\n",
       "    .dataframe thead th {\n",
       "        text-align: right;\n",
       "    }\n",
       "</style>\n",
       "<table border=\"1\" class=\"dataframe\">\n",
       "  <thead>\n",
       "    <tr style=\"text-align: right;\">\n",
       "      <th></th>\n",
       "      <th>Year</th>\n",
       "      <th>Thermal Generation Actual (in MU)</th>\n",
       "      <th>Hydro Generation Actual (in MU)</th>\n",
       "    </tr>\n",
       "  </thead>\n",
       "  <tbody>\n",
       "    <tr>\n",
       "      <th>0</th>\n",
       "      <td>2017</td>\n",
       "      <td>340769.45</td>\n",
       "      <td>44564.53</td>\n",
       "    </tr>\n",
       "    <tr>\n",
       "      <th>1</th>\n",
       "      <td>2018</td>\n",
       "      <td>1073156.97</td>\n",
       "      <td>131759.56</td>\n",
       "    </tr>\n",
       "    <tr>\n",
       "      <th>2</th>\n",
       "      <td>2019</td>\n",
       "      <td>1134669.31</td>\n",
       "      <td>136449.66</td>\n",
       "    </tr>\n",
       "    <tr>\n",
       "      <th>3</th>\n",
       "      <td>2020</td>\n",
       "      <td>438077.25</td>\n",
       "      <td>49724.03</td>\n",
       "    </tr>\n",
       "  </tbody>\n",
       "</table>\n",
       "</div>"
      ],
      "text/plain": [
       "   Year  Thermal Generation Actual (in MU)  Hydro Generation Actual (in MU)\n",
       "0  2017                          340769.45                         44564.53\n",
       "1  2018                         1073156.97                        131759.56\n",
       "2  2019                         1134669.31                        136449.66\n",
       "3  2020                          438077.25                         49724.03"
      ]
     },
     "execution_count": 13,
     "metadata": {},
     "output_type": "execute_result"
    }
   ],
   "source": [
    "ds1 = ds.groupby('Year')[['Thermal Generation Actual (in MU)', 'Hydro Generation Actual (in MU)']].sum()\n",
    "ds1 = ds1.reset_index()\n",
    "ds1.head()"
   ]
  },
  {
   "cell_type": "code",
   "execution_count": 14,
   "metadata": {},
   "outputs": [
    {
     "data": {
      "image/png": "[encoded data removed]",
      "text/plain": [
       "<Figure size 432x288 with 1 Axes>"
      ]
     },
     "metadata": {
      "needs_background": "light"
     },
     "output_type": "display_data"
    }
   ],
   "source": [
    "sns.barplot(x=\"Year\", y=\"Thermal Generation Actual (in MU)\", data=ds1)\n",
    "plt.savefig(\"Outputs/EDA_Year_thermal.png\", dpi = 1000, bbox_inches='tight')"
   ]
  },
  {
   "cell_type": "code",
   "execution_count": 15,
   "metadata": {},
   "outputs": [
    {
     "data": {
      "image/png": "[encoded data removed]",
      "text/plain": [
       "<Figure size 432x288 with 1 Axes>"
      ]
     },
     "metadata": {
      "needs_background": "light"
     },
     "output_type": "display_data"
    }
   ],
   "source": [
    "sns.barplot(x=\"Year\", y=\"Hydro Generation Actual (in MU)\", data=ds1)\n",
    "plt.savefig(\"Outputs/EDA_Year_hydro.png\", dpi = 1000, bbox_inches='tight')"
   ]
  },
  {
   "cell_type": "code",
   "execution_count": 16,
   "metadata": {},
   "outputs": [
    {
     "data": {
      "text/html": [
       "<div>\n",
       "<style scoped>\n",
       "    .dataframe tbody tr th:only-of-type {\n",
       "        vertical-align: middle;\n",
       "    }\n",
       "\n",
       "    .dataframe tbody tr th {\n",
       "        vertical-align: top;\n",
       "    }\n",
       "\n",
       "    .dataframe thead th {\n",
       "        text-align: right;\n",
       "    }\n",
       "</style>\n",
       "<table border=\"1\" class=\"dataframe\">\n",
       "  <thead>\n",
       "    <tr style=\"text-align: right;\">\n",
       "      <th></th>\n",
       "      <th>Month</th>\n",
       "      <th>Thermal Generation Actual (in MU)</th>\n",
       "      <th>Hydro Generation Actual (in MU)</th>\n",
       "    </tr>\n",
       "  </thead>\n",
       "  <tbody>\n",
       "    <tr>\n",
       "      <th>0</th>\n",
       "      <td>1</td>\n",
       "      <td>284125.42</td>\n",
       "      <td>21421.00</td>\n",
       "    </tr>\n",
       "    <tr>\n",
       "      <th>1</th>\n",
       "      <td>2</td>\n",
       "      <td>260305.31</td>\n",
       "      <td>21167.28</td>\n",
       "    </tr>\n",
       "    <tr>\n",
       "      <th>2</th>\n",
       "      <td>3</td>\n",
       "      <td>244404.74</td>\n",
       "      <td>22418.25</td>\n",
       "    </tr>\n",
       "    <tr>\n",
       "      <th>3</th>\n",
       "      <td>4</td>\n",
       "      <td>189137.75</td>\n",
       "      <td>18194.40</td>\n",
       "    </tr>\n",
       "    <tr>\n",
       "      <th>4</th>\n",
       "      <td>5</td>\n",
       "      <td>196453.25</td>\n",
       "      <td>24801.86</td>\n",
       "    </tr>\n",
       "  </tbody>\n",
       "</table>\n",
       "</div>"
      ],
      "text/plain": [
       "   Month  Thermal Generation Actual (in MU)  Hydro Generation Actual (in MU)\n",
       "0      1                          284125.42                         21421.00\n",
       "1      2                          260305.31                         21167.28\n",
       "2      3                          244404.74                         22418.25\n",
       "3      4                          189137.75                         18194.40\n",
       "4      5                          196453.25                         24801.86"
      ]
     },
     "execution_count": 16,
     "metadata": {},
     "output_type": "execute_result"
    }
   ],
   "source": [
    "ds2 = ds.groupby('Month')[['Thermal Generation Actual (in MU)', 'Hydro Generation Actual (in MU)']].sum()\n",
    "ds2 = ds2.reset_index()\n",
    "ds2.head()"
   ]
  },
  {
   "cell_type": "code",
   "execution_count": 17,
   "metadata": {},
   "outputs": [
    {
     "data": {
      "image/png": "[encoded data removed]",
      "text/plain": [
       "<Figure size 432x288 with 1 Axes>"
      ]
     },
     "metadata": {
      "needs_background": "light"
     },
     "output_type": "display_data"
    }
   ],
   "source": [
    "sns.barplot(x=\"Month\", y=\"Thermal Generation Actual (in MU)\", data=ds2)\n",
    "plt.savefig(\"Outputs/EDA_Month_thermal.png\", dpi = 1000, bbox_inches='tight')"
   ]
  },
  {
   "cell_type": "code",
   "execution_count": 18,
   "metadata": {},
   "outputs": [
    {
     "data": {
      "image/png": "[encoded data removed]",
      "text/plain": [
       "<Figure size 432x288 with 1 Axes>"
      ]
     },
     "metadata": {
      "needs_background": "light"
     },
     "output_type": "display_data"
    }
   ],
   "source": [
    "sns.barplot(x=\"Month\", y=\"Hydro Generation Actual (in MU)\", data=ds2)\n",
    "plt.savefig(\"Outputs/EDA_Month_hydro.png\", dpi = 1000, bbox_inches='tight')"
   ]
  }
 ],
 "metadata": {
  "kernelspec": {
   "display_name": "Python 3",
   "language": "python",
   "name": "python3"
  },
  "language_info": {
   "codemirror_mode": {
    "name": "ipython",
    "version": 3
   },
   "file_extension": ".py",
   "mimetype": "text/x-python",
   "name": "python",
   "nbconvert_exporter": "python",
   "pygments_lexer": "ipython3",
   "version": "3.7.6"
  }
 },
 "nbformat": 4,
 "nbformat_minor": 4
}
